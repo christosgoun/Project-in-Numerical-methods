{
 "cells": [
  {
   "cell_type": "markdown",
   "id": "3a4f4065",
   "metadata": {},
   "source": [
    "#                          Εργασία Αριθμητική Ανάλυση 2023"
   ]
  },
  {
   "cell_type": "markdown",
   "id": "31238604",
   "metadata": {},
   "source": [
    "Παναγιώτης-Πολύδωρος Βογιατζής, 10855\n",
    " "
   ]
  },
  {
   "cell_type": "markdown",
   "id": "db1221e2",
   "metadata": {},
   "source": [
    "Χρήστος Γούναρης, 10638"
   ]
  },
  {
   "cell_type": "markdown",
   "id": "580e7fb4",
   "metadata": {},
   "source": [
    "# 1. Παραγοντοποιήσεις LU και QR"
   ]
  },
  {
   "cell_type": "code",
   "execution_count": 1,
   "id": "5702b49b",
   "metadata": {},
   "outputs": [],
   "source": [
    "import numpy as np\n",
    "\n",
    "def LUmine(A):\n",
    "    n =A.shape[0] \n",
    "\n",
    "    L = np.matrix(np.identity(n)) \n",
    "    U = A\n",
    "\n",
    "    for j in range(0,n-1):\n",
    "        for i in range(j+1,n):\n",
    "            mult =A[i, j] / A[j,j]\n",
    "            A[i, j + 1:n] = A[i, j+1:n] - mult*A[j, j+1:n]\n",
    "            U[i, j + 1:n] =A[i, j + 1:n]\n",
    "            L[i, j] = mult\n",
    "            U[i, j] = 0\n",
    "\n",
    "    return L, U"
   ]
  },
  {
   "cell_type": "code",
   "execution_count": 2,
   "id": "0e959e1c",
   "metadata": {},
   "outputs": [],
   "source": [
    "import numpy as np\n",
    "\n",
    "def QRmine(A):\n",
    "\n",
    "    n = A.shape[0]\n",
    "    Q = np.matrix(np.zeros((n,n)))\n",
    "\n",
    "    for j in range(A.shape[0]):  \n",
    "        q = A[:, j]\n",
    "    \n",
    "        for i in range(j):\n",
    "            length_of_leg = np.sum(A[:, j].T * Q[:, i])\n",
    "            q = q - length_of_leg * Q[:, i]   \n",
    "        Q[:,j] = q / np.linalg.norm(q)\n",
    "    R = Q.T*A\n",
    "    return Q, R\n"
   ]
  },
  {
   "cell_type": "markdown",
   "id": "41d66fed",
   "metadata": {},
   "source": [
    "# 2. Πίνακες Hilbert"
   ]
  },
  {
   "cell_type": "markdown",
   "id": "719dd9c5",
   "metadata": {},
   "source": [
    "α)Δημιουργία ενός ΝxN Hilbert."
   ]
  },
  {
   "cell_type": "code",
   "execution_count": 3,
   "id": "0b4884c4",
   "metadata": {},
   "outputs": [
    {
     "name": "stdout",
     "output_type": "stream",
     "text": [
      "[[1.         0.5        0.33333333 0.25      ]\n",
      " [0.5        0.33333333 0.25       0.2       ]\n",
      " [0.33333333 0.25       0.2        0.16666667]\n",
      " [0.25       0.2        0.16666667 0.14285714]]\n"
     ]
    }
   ],
   "source": [
    "import numpy as np\n",
    "import matplotlib.pyplot as plt\n",
    "\n",
    "\n",
    "N = 4\n",
    "H_list = []\n",
    "for i in range(0, N):\n",
    "    for j in range(0, N):\n",
    "        H_list.append(1/(i+j+1))\n",
    "\n",
    "Hlists = [H_list[i:i+N] for i in range(0, len(H_list), N)]\n",
    "H = np.array(Hlists)\n",
    "print(H)"
   ]
  },
  {
   "cell_type": "markdown",
   "id": "2590f14f",
   "metadata": {},
   "source": [
    "β)Δημιουργία διανύσματος με στοιχεία ίσα με 1 και επίλυση του Hx=b χρησιμοποιώντας την LUmine."
   ]
  },
  {
   "cell_type": "code",
   "execution_count": 4,
   "id": "3eec6c01",
   "metadata": {},
   "outputs": [
    {
     "name": "stdout",
     "output_type": "stream",
     "text": [
      "[[  -4.]\n",
      " [  60.]\n",
      " [-180.]\n",
      " [ 140.]]\n"
     ]
    }
   ],
   "source": [
    "\n",
    "\n",
    "L,U = LUmine(H)\n",
    "b = np.ones((N, 1))\n",
    "\n",
    "#Exw:H =LU,diladi LUx = b, thetw Ux = Y, opote Y = b*L^-1\n",
    "\n",
    "L_inverse = np.linalg.inv(L)\n",
    "\n",
    "Y = L_inverse*b\n",
    "\n",
    "#Twra x = Y*U^-1\n",
    "\n",
    "U_inverse = np.linalg.inv(U)\n",
    "\n",
    "x = U_inverse*Y\n",
    "print(x)"
   ]
  },
  {
   "cell_type": "markdown",
   "id": "2b40efe4",
   "metadata": {},
   "source": [
    "γ)Μεταβάλλουμε την τιμή του b κατά 10^-15 και προκύπτει το νέο διάνυσμα b_new. Επιλύουμε το σύστημα Hx_new=b_new και υπολογίζουμε τη μέγιστη απόλυτη διαφορά."
   ]
  },
  {
   "cell_type": "code",
   "execution_count": 5,
   "id": "abd89716",
   "metadata": {},
   "outputs": [
    {
     "name": "stdout",
     "output_type": "stream",
     "text": [
      "5.684341886080802e-14\n"
     ]
    }
   ],
   "source": [
    "\n",
    "\n",
    "b_new = b.copy()\n",
    "b_new[0] = b_new[0] + 10**-15\n",
    "\n",
    "Y_new = L_inverse.dot(b_new)\n",
    "\n",
    "x_new = U_inverse.dot(Y_new)\n",
    "\n",
    "print(np.max(np.abs(x - x_new)))"
   ]
  },
  {
   "cell_type": "markdown",
   "id": "abfc18eb",
   "metadata": {},
   "source": [
    "Παρατηρούμε ότι το αποτέλεσμα ειναι πολύ μικρό. Το περιμέναμε, αφού η τιμή του πρώτου στοιχείου του διανλυσματος b μεταβλήθηκε και αυτή κατά πολύ λίγο (10^-15)."
   ]
  },
  {
   "cell_type": "markdown",
   "id": "d84049aa",
   "metadata": {},
   "source": [
    "δ)Δημιουργία ένός διαγράμματος με τις τιμές του n στον οριζόντιο άξονα και τις τιμές της μέγιστης απόλυτης διαφοράς στον κατακόρυφο άξονα."
   ]
  },
  {
   "cell_type": "code",
   "execution_count": 6,
   "id": "77f8bc8c",
   "metadata": {},
   "outputs": [
    {
     "data": {
      "text/plain": [
       "Text(0, 0.5, 'Μaximum Αbsolute Difference')"
      ]
     },
     "execution_count": 6,
     "metadata": {},
     "output_type": "execute_result"
    },
    {
     "data": {
      "image/png": "[encoded data removed]",
      "text/plain": [
       "<Figure size 640x480 with 1 Axes>"
      ]
     },
     "metadata": {},
     "output_type": "display_data"
    }
   ],
   "source": [
    "n = [1,2,3,4, 5, 6, 7, 8]\n",
    "max_abs = []\n",
    "norm_values = []\n",
    "\n",
    "for number in n:\n",
    "    H_listnew = []\n",
    "    for i in range(0, number):\n",
    "        for j in range(0, number):\n",
    "            H_listnew.append(1 / (i + j + 1))\n",
    "\n",
    "    Hlistsnew = [H_listnew[i:i + number] for i in range(0, len(H_listnew), number)]\n",
    "    H = np.array(Hlistsnew)\n",
    "\n",
    "    b = np.ones((number, 1))\n",
    "\n",
    "    L, U = LUmine(H)\n",
    "\n",
    "    L_inverse = np.linalg.inv(L)\n",
    "    Y = L_inverse*b\n",
    "\n",
    "    U_inverse = np.linalg.inv(U)\n",
    "    x = U_inverse*Y\n",
    "\n",
    "    b_new = b.copy()\n",
    "    b_new[0] = b_new[0] + 10**-15\n",
    "\n",
    "    Y_new = L_inverse*b_new\n",
    "\n",
    "    x_new = U_inverse*Y_new\n",
    "    max_abs.append(np.max(np.abs(x - x_new)))\n",
    "    \n",
    "plt.plot(n,max_abs)\n",
    "plt.xlabel('n-Values')\n",
    "plt.ylabel('Μaximum Αbsolute Difference')"
   ]
  },
  {
   "cell_type": "markdown",
   "id": "e630d243",
   "metadata": {},
   "source": [
    "Παρατηρούμε ότι για τις μικρές και μεγάλες τιμές του n, η μέγιστη απόλυτη διαφορά ελαχιστοποιείται. Έτσι, συμπεραίνουμε ότι ο πίνακας hilbert είναι πιο ασταθής στις μεσαιές τιμές του n."
   ]
  },
  {
   "cell_type": "markdown",
   "id": "28841d5b",
   "metadata": {},
   "source": [
    "ε)Υπολογισμός του ΗΗ^-1 και της 2-νόρμας της διαφοράς του μοναδιαίου πίνακα και του ΗΗ^-1."
   ]
  },
  {
   "cell_type": "code",
   "execution_count": 7,
   "id": "9f0bc58b",
   "metadata": {},
   "outputs": [
    {
     "data": {
      "text/plain": [
       "Text(0, 0.5, '2-Norm difference')"
      ]
     },
     "execution_count": 7,
     "metadata": {},
     "output_type": "execute_result"
    },
    {
     "data": {
      "image/png": "[encoded data removed]",
      "text/plain": [
       "<Figure size 640x480 with 1 Axes>"
      ]
     },
     "metadata": {},
     "output_type": "display_data"
    }
   ],
   "source": [
    "n = [1,2,3,4, 5, 6, 7, 8]\n",
    "max_abs = []\n",
    "norm_values = []\n",
    "\n",
    "for number in n:\n",
    "    H_listnew = []\n",
    "    for i in range(0, number):\n",
    "        for j in range(0, number):\n",
    "            H_listnew.append(1 / (i + j + 1))\n",
    "\n",
    "    Hlistsnew = [H_listnew[i:i + number] for i in range(0, len(H_listnew), number)]\n",
    "    H = np.array(Hlistsnew)\n",
    "\n",
    "    H_inverse = np.linalg.inv(H)\n",
    "\n",
    "    diff = H_inverse*H-np.identity(number)\n",
    "    norm_diff = np.linalg.norm(diff)\n",
    "    norm_values.append(norm_diff)\n",
    "    \n",
    "plt.plot(n,norm_values)\n",
    "plt.xlabel('n-Values')\n",
    "plt.ylabel('2-Norm difference')"
   ]
  },
  {
   "cell_type": "markdown",
   "id": "a7842ee3",
   "metadata": {},
   "source": [
    "Παρατηρούμε ότι το διάγραμμα αυξάνεται απότομα για μεγάλες τιμές του n. Οπότε, όταν ο πίνακας hilbert έχει μεγάλες διαστάσεις αποκτά μεγάλη αστάθεια. Έτσι δεν είναι αντιστρέψιμος."
   ]
  },
  {
   "cell_type": "markdown",
   "id": "10dc6126",
   "metadata": {},
   "source": [
    "# 3. Πρόβλημα προσέγγισης"
   ]
  },
  {
   "cell_type": "markdown",
   "id": "7181ba39",
   "metadata": {},
   "source": [
    "Δημιουργία διανυσμάτων y, t και δημιουργία πινάκων Α και b."
   ]
  },
  {
   "cell_type": "code",
   "execution_count": 8,
   "id": "7fea088b",
   "metadata": {},
   "outputs": [
    {
     "name": "stdout",
     "output_type": "stream",
     "text": [
      "[[1.0000000e+00 0.0000000e+00 0.0000000e+00 0.0000000e+00 0.0000000e+00]\n",
      " [1.0000000e+00 2.0000000e-02 4.0000000e-04 8.0000000e-06 1.6000000e-07]\n",
      " [1.0000000e+00 4.0000000e-02 1.6000000e-03 6.4000000e-05 2.5600000e-06]\n",
      " [1.0000000e+00 6.0000000e-02 3.6000000e-03 2.1600000e-04 1.2960000e-05]\n",
      " [1.0000000e+00 8.0000000e-02 6.4000000e-03 5.1200000e-04 4.0960000e-05]\n",
      " [1.0000000e+00 1.0000000e-01 1.0000000e-02 1.0000000e-03 1.0000000e-04]\n",
      " [1.0000000e+00 1.2000000e-01 1.4400000e-02 1.7280000e-03 2.0736000e-04]\n",
      " [1.0000000e+00 1.4000000e-01 1.9600000e-02 2.7440000e-03 3.8416000e-04]\n",
      " [1.0000000e+00 1.6000000e-01 2.5600000e-02 4.0960000e-03 6.5536000e-04]\n",
      " [1.0000000e+00 1.8000000e-01 3.2400000e-02 5.8320000e-03 1.0497600e-03]\n",
      " [1.0000000e+00 2.0000000e-01 4.0000000e-02 8.0000000e-03 1.6000000e-03]\n",
      " [1.0000000e+00 2.2000000e-01 4.8400000e-02 1.0648000e-02 2.3425600e-03]\n",
      " [1.0000000e+00 2.4000000e-01 5.7600000e-02 1.3824000e-02 3.3177600e-03]\n",
      " [1.0000000e+00 2.6000000e-01 6.7600000e-02 1.7576000e-02 4.5697600e-03]\n",
      " [1.0000000e+00 2.8000000e-01 7.8400000e-02 2.1952000e-02 6.1465600e-03]\n",
      " [1.0000000e+00 3.0000000e-01 9.0000000e-02 2.7000000e-02 8.1000000e-03]\n",
      " [1.0000000e+00 3.2000000e-01 1.0240000e-01 3.2768000e-02 1.0485760e-02]\n",
      " [1.0000000e+00 3.4000000e-01 1.1560000e-01 3.9304000e-02 1.3363360e-02]\n",
      " [1.0000000e+00 3.6000000e-01 1.2960000e-01 4.6656000e-02 1.6796160e-02]\n",
      " [1.0000000e+00 3.8000000e-01 1.4440000e-01 5.4872000e-02 2.0851360e-02]\n",
      " [1.0000000e+00 4.0000000e-01 1.6000000e-01 6.4000000e-02 2.5600000e-02]\n",
      " [1.0000000e+00 4.2000000e-01 1.7640000e-01 7.4088000e-02 3.1116960e-02]\n",
      " [1.0000000e+00 4.4000000e-01 1.9360000e-01 8.5184000e-02 3.7480960e-02]\n",
      " [1.0000000e+00 4.6000000e-01 2.1160000e-01 9.7336000e-02 4.4774560e-02]\n",
      " [1.0000000e+00 4.8000000e-01 2.3040000e-01 1.1059200e-01 5.3084160e-02]\n",
      " [1.0000000e+00 5.0000000e-01 2.5000000e-01 1.2500000e-01 6.2500000e-02]\n",
      " [1.0000000e+00 5.2000000e-01 2.7040000e-01 1.4060800e-01 7.3116160e-02]\n",
      " [1.0000000e+00 5.4000000e-01 2.9160000e-01 1.5746400e-01 8.5030560e-02]\n",
      " [1.0000000e+00 5.6000000e-01 3.1360000e-01 1.7561600e-01 9.8344960e-02]\n",
      " [1.0000000e+00 5.8000000e-01 3.3640000e-01 1.9511200e-01 1.1316496e-01]\n",
      " [1.0000000e+00 6.0000000e-01 3.6000000e-01 2.1600000e-01 1.2960000e-01]\n",
      " [1.0000000e+00 6.2000000e-01 3.8440000e-01 2.3832800e-01 1.4776336e-01]\n",
      " [1.0000000e+00 6.4000000e-01 4.0960000e-01 2.6214400e-01 1.6777216e-01]\n",
      " [1.0000000e+00 6.6000000e-01 4.3560000e-01 2.8749600e-01 1.8974736e-01]\n",
      " [1.0000000e+00 6.8000000e-01 4.6240000e-01 3.1443200e-01 2.1381376e-01]\n",
      " [1.0000000e+00 7.0000000e-01 4.9000000e-01 3.4300000e-01 2.4010000e-01]\n",
      " [1.0000000e+00 7.2000000e-01 5.1840000e-01 3.7324800e-01 2.6873856e-01]\n",
      " [1.0000000e+00 7.4000000e-01 5.4760000e-01 4.0522400e-01 2.9986576e-01]\n",
      " [1.0000000e+00 7.6000000e-01 5.7760000e-01 4.3897600e-01 3.3362176e-01]\n",
      " [1.0000000e+00 7.8000000e-01 6.0840000e-01 4.7455200e-01 3.7015056e-01]\n",
      " [1.0000000e+00 8.0000000e-01 6.4000000e-01 5.1200000e-01 4.0960000e-01]\n",
      " [1.0000000e+00 8.2000000e-01 6.7240000e-01 5.5136800e-01 4.5212176e-01]\n",
      " [1.0000000e+00 8.4000000e-01 7.0560000e-01 5.9270400e-01 4.9787136e-01]\n",
      " [1.0000000e+00 8.6000000e-01 7.3960000e-01 6.3605600e-01 5.4700816e-01]\n",
      " [1.0000000e+00 8.8000000e-01 7.7440000e-01 6.8147200e-01 5.9969536e-01]\n",
      " [1.0000000e+00 9.0000000e-01 8.1000000e-01 7.2900000e-01 6.5610000e-01]\n",
      " [1.0000000e+00 9.2000000e-01 8.4640000e-01 7.7868800e-01 7.1639296e-01]\n",
      " [1.0000000e+00 9.4000000e-01 8.8360000e-01 8.3058400e-01 7.8074896e-01]\n",
      " [1.0000000e+00 9.6000000e-01 9.2160000e-01 8.8473600e-01 8.4934656e-01]\n",
      " [1.0000000e+00 9.8000000e-01 9.6040000e-01 9.4119200e-01 9.2236816e-01]\n",
      " [1.0000000e+00 1.0000000e+00 1.0000000e+00 1.0000000e+00 1.0000000e+00]]\n",
      "[[ -8.2117148 ]\n",
      " [-14.71722343]\n",
      " [-12.65435048]\n",
      " [-10.46327993]\n",
      " [ -8.74093901]]\n"
     ]
    }
   ],
   "source": [
    "import numpy as np\n",
    "\n",
    "\n",
    "t = np.arange(0, 1.02, 0.02)\n",
    "y = np.cos(4 * t) + 0.1 * np.random.randn(t.shape[0])\n",
    "\n",
    "A_pin = []\n",
    "for i in t:\n",
    "    for j in range(5):\n",
    "        elem = i**j\n",
    "        A_pin.append(elem)\n",
    "\n",
    "Apin = [A_pin[i:i+5] for i in range(0, len(A_pin), 5)]\n",
    "A = np.matrix(Apin)\n",
    "\n",
    "\n",
    "b = A.T*y.reshape(51, 1)\n",
    "print(A)\n",
    "print(b)"
   ]
  },
  {
   "cell_type": "markdown",
   "id": "4bfb2431",
   "metadata": {},
   "source": [
    "Εύρεση πολυωνύμου βαθμού 4 με μέθοδο ελαχίστων τετραγώνων και αθροίσματος τετραγωνικού σφάλματος."
   ]
  },
  {
   "cell_type": "markdown",
   "id": "d2058099",
   "metadata": {},
   "source": [
    "-Με παραγοντοποιήση LU:"
   ]
  },
  {
   "cell_type": "code",
   "execution_count": 9,
   "id": "126b2c52",
   "metadata": {},
   "outputs": [
    {
     "name": "stdout",
     "output_type": "stream",
     "text": [
      "Οι συντελεστές του πολυωνύμου είναι αντίστοιχα:\n",
      "  [[ 1.05084752]\n",
      " [-0.02502236]\n",
      " [-9.668125  ]\n",
      " [ 8.16562176]\n",
      " [-0.12935338]]\n",
      "To άθροισμα των τεραγωνικών σφαλμάτων είναι [6.14364873e-27].\n"
     ]
    }
   ],
   "source": [
    "\n",
    "pinakas1 =A.T*A\n",
    "L, U = LUmine(A.T*A)\n",
    "#L*U*x = b, U*x = Y\n",
    "\n",
    "L_inverse = np.linalg.inv(L)\n",
    "#Υ = L^-1 * b\n",
    "Y = L_inverse*b\n",
    "#x = Y*U^-1\n",
    "\n",
    "\n",
    "U_inverse = np.linalg.inv(U)\n",
    "\n",
    "x1 = U_inverse*Y\n",
    "print(\"Οι συντελεστές του πολυωνύμου είναι αντίστοιχα:\\n \",x1)\n",
    "\n",
    "squared_errors_LU = [(b[i, 0] - pinakas1[i].dot(x1))[0, 0]**2 for i in range(len(b))]\n",
    "sum_squared_errors_LU = sum(squared_errors_LU)\n",
    "\n",
    "squared_errors_resized_LU = np.reshape(squared_errors_LU, (5,1))\n",
    "print(f\"To άθροισμα των τεραγωνικών σφαλμάτων είναι {sum(squared_errors_resized_LU)}.\")"
   ]
  },
  {
   "cell_type": "markdown",
   "id": "c8848117",
   "metadata": {},
   "source": [
    "-Με παραγοντοποιήση QR:"
   ]
  },
  {
   "cell_type": "code",
   "execution_count": 10,
   "id": "75a26e36",
   "metadata": {},
   "outputs": [
    {
     "name": "stdout",
     "output_type": "stream",
     "text": [
      "Οι συντελεστές του πολυωνύμου είναι αντίστοιχα:\n",
      "  [[ 1.05084752]\n",
      " [-0.02502236]\n",
      " [-9.668125  ]\n",
      " [ 8.16562176]\n",
      " [-0.12935338]]\n",
      "To άθροισμα των τεραγωνικών σφαλμάτων είναι [4.18542536e-20].\n"
     ]
    }
   ],
   "source": [
    "Q, R = QRmine(A.T*A)\n",
    "\n",
    "R_inverse = np.linalg.inv(R)\n",
    "\n",
    "x2 = R_inverse*Q.T*b\n",
    "print(\"Οι συντελεστές του πολυωνύμου είναι αντίστοιχα:\\n \",x2)\n",
    "\n",
    "squared_errors_QR = [(b[i, 0] - pinakas1[i].dot(x2))[0, 0]**2 for i in range(len(b))]\n",
    "sum_squared_errors_QR = sum(squared_errors_QR)\n",
    "\n",
    "squared_errors_resized_QR = np.reshape(squared_errors_QR, (5,1))\n",
    "print(f\"To άθροισμα των τεραγωνικών σφαλμάτων είναι {sum(squared_errors_resized_QR)}.\")"
   ]
  },
  {
   "cell_type": "markdown",
   "id": "71add5c9",
   "metadata": {},
   "source": [
    "Διάγραμμα t-x και καμπύλη βέλτιστης προσέγγισης"
   ]
  },
  {
   "cell_type": "code",
   "execution_count": 11,
   "id": "ed980b24",
   "metadata": {},
   "outputs": [
    {
     "data": {
      "image/png": "[encoded data removed]",
      "text/plain": [
       "<Figure size 640x480 with 1 Axes>"
      ]
     },
     "metadata": {},
     "output_type": "display_data"
    }
   ],
   "source": [
    "import numpy as np\n",
    "from matplotlib import pyplot as plt\n",
    "\n",
    "t = np.arange(0, 1.02, 0.02)\n",
    "y = np.cos(4 * t) + 0.1 * np.random.randn(t.shape[0])\n",
    "\n",
    "degree = 4\n",
    "coefficients = np.polyfit(t, y, degree)\n",
    "smooth_curve = np.polyval(coefficients, t)\n",
    "\n",
    "plt.plot(t,y)\n",
    "plt.plot(t, smooth_curve)\n",
    "plt.xlabel('t-Values')\n",
    "plt.ylabel('Polynomial Values')\n",
    "plt.show()"
   ]
  },
  {
   "cell_type": "markdown",
   "id": "c93c8329",
   "metadata": {},
   "source": [
    "# TΕΛΟΣ"
   ]
  }
 ],
 "metadata": {
  "kernelspec": {
   "display_name": "Python 3 (ipykernel)",
   "language": "python",
   "name": "python3"
  },
  "language_info": {
   "codemirror_mode": {
    "name": "ipython",
    "version": 3
   },
   "file_extension": ".py",
   "mimetype": "text/x-python",
   "name": "python",
   "nbconvert_exporter": "python",
   "pygments_lexer": "ipython3",
   "version": "3.10.9"
  }
 },
 "nbformat": 4,
 "nbformat_minor": 5
}
